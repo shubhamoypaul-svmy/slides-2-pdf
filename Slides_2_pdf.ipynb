{
  "cells": [
    {
      "cell_type": "markdown",
      "metadata": {
        "id": "view-in-github",
        "colab_type": "text"
      },
      "source": [
        "<a href=\"https://colab.research.google.com/github/shubhamoypaul-svmy/slides-2-pdf/blob/main/Slides_2_pdf.ipynb\" target=\"_parent\"><img src=\"https://colab.research.google.com/assets/colab-badge.svg\" alt=\"Open In Colab\"/></a>"
      ]
    },
    {
      "cell_type": "code",
      "source": [
        "! pip install PyPDF2"
      ],
      "metadata": {
        "colab": {
          "base_uri": "https://localhost:8080/"
        },
        "id": "WBKe5jcTsL_h",
        "outputId": "28455461-a3aa-4adf-f25d-93f380519061"
      },
      "execution_count": 2,
      "outputs": [
        {
          "output_type": "stream",
          "name": "stdout",
          "text": [
            "Looking in indexes: https://pypi.org/simple, https://us-python.pkg.dev/colab-wheels/public/simple/\n",
            "Collecting PyPDF2\n",
            "  Downloading PyPDF2-2.10.4-py3-none-any.whl (214 kB)\n",
            "\u001b[K     |████████████████████████████████| 214 kB 4.9 MB/s \n",
            "\u001b[?25hRequirement already satisfied: typing-extensions>=3.10.0.0 in /usr/local/lib/python3.7/dist-packages (from PyPDF2) (4.1.1)\n",
            "Installing collected packages: PyPDF2\n",
            "Successfully installed PyPDF2-2.10.4\n"
          ]
        }
      ]
    },
    {
      "cell_type": "markdown",
      "source": [
        "Step 1: click on three line button (left upper corner)<br>\n",
        "Step 2: **show file browser** >> upload your slide pdf file<br>\n",
        "Step 3: Click the three dots on the file you uploaded <br>\n",
        "Step 4: **copy path**"
      ],
      "metadata": {
        "id": "fi_n_euc1JGm"
      }
    },
    {
      "cell_type": "code",
      "source": [
        "import PyPDF2 \n",
        "\n",
        "def fun(path,v):\n",
        "\n",
        "# creating a pdf file object \n",
        "    try:\n",
        "        pdfFileObj = open(path, 'rb') \n",
        "\n",
        "  \n",
        "# creating a pdf reader object \n",
        "\n",
        "        pdfReader = PyPDF2.PdfFileReader(pdfFileObj)\n",
        "        \n",
        "  \n",
        "# printing number of pages in pdf file \n",
        "\n",
        "        #print(pdfReader)\n",
        "\n",
        "        P=[]\n",
        "        P2=[]\n",
        "        l=pdfReader.numPages-1\n",
        "        for i in range(l):\n",
        "            pageObj = pdfReader.getPage(i)\n",
        "  \n",
        "     # extracting text from page \n",
        "\n",
        "            Text=pageObj.extractText()\n",
        "            a=Text.split()[0:v]\n",
        "            pageObj = pdfReader.getPage(i+1)\n",
        "\n",
        "  \n",
        "     # extracting text from page \n",
        "\n",
        "            Text2=pageObj.extractText()\n",
        "            b=Text2.split()[0:v]\n",
        "            P.append(a==b)\n",
        "            if P[-1]==False :\n",
        "                P2.append(i)\n",
        "            #print(a==b) \n",
        "        from PyPDF2 import PdfWriter, PdfReader\n",
        "        pages_to_keep = P2 # page numbering starts from 0\n",
        "        infile = PdfReader(path) \n",
        "        output = PdfWriter()\n",
        "\n",
        "        for i in pages_to_keep:\n",
        "            p = infile.pages[i] \n",
        "            output.add_page(p)\n",
        "        output.add_page(infile.pages[l])\n",
        "\n",
        "        with open('newfile2.pdf', 'wb') as f:\n",
        "            output.write(f)\n",
        "        return(\"done\")\n",
        "    except ValueError:\n",
        "      print(\"Oops!  That was no valid number.  Try again...\")"
      ],
      "metadata": {
        "id": "-lfUXAeQhVfI"
      },
      "execution_count": 18,
      "outputs": []
    },
    {
      "cell_type": "markdown",
      "source": [
        "Next Step: paste the file path"
      ],
      "metadata": {
        "id": "jmBpJVEb3FnP"
      }
    },
    {
      "cell_type": "code",
      "source": [
        "fun(\"/content/pcaslides2.pdf\", 6)"
      ],
      "metadata": {
        "colab": {
          "base_uri": "https://localhost:8080/",
          "height": 35
        },
        "id": "NXaqKLFnje6e",
        "outputId": "188f578c-1f5d-4957-b42f-111856d3cdf1"
      },
      "execution_count": 20,
      "outputs": [
        {
          "output_type": "execute_result",
          "data": {
            "text/plain": [
              "'done'"
            ],
            "application/vnd.google.colaboratory.intrinsic+json": {
              "type": "string"
            }
          },
          "metadata": {},
          "execution_count": 20
        }
      ]
    },
    {
      "cell_type": "markdown",
      "source": [
        "Now you can download your converted file from the **file browser**"
      ],
      "metadata": {
        "id": "OJ4vYSir4I4-"
      }
    }
  ],
  "metadata": {
    "colab": {
      "collapsed_sections": [],
      "provenance": [],
      "include_colab_link": true
    },
    "kernelspec": {
      "display_name": "Python 3",
      "name": "python3"
    }
  },
  "nbformat": 4,
  "nbformat_minor": 0
}